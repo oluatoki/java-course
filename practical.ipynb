{
  "cells": [
    {
      "cell_type": "markdown",
      "metadata": {
        "id": "view-in-github",
        "colab_type": "text"
      },
      "source": [
        "<a href=\"https://colab.research.google.com/github/oluatoki/java-course/blob/master/practical.ipynb\" target=\"_parent\"><img src=\"https://colab.research.google.com/assets/colab-badge.svg\" alt=\"Open In Colab\"/></a>"
      ]
    },
    {
      "cell_type": "markdown",
      "id": "32a1ddb6",
      "metadata": {
        "id": "32a1ddb6"
      },
      "source": [
        "# Find the Minimum and Maximum Value in a Set"
      ]
    },
    {
      "cell_type": "code",
      "execution_count": null,
      "id": "acf0101a",
      "metadata": {
        "colab": {
          "base_uri": "https://localhost:8080/"
        },
        "id": "acf0101a",
        "outputId": "e50812c1-83f4-472e-ce8c-d46abab9455b"
      },
      "outputs": [
        {
          "output_type": "stream",
          "name": "stdout",
          "text": [
            "Downloading the marking system\n"
          ]
        }
      ],
      "source": [
        "#@title ### Run the following cell to download the necessary files for this practical { display-mode: \"form\" } \n",
        "#@markdown Don't worry about what's in this collapsed cell\n",
        "\n",
        "print('Downloading the marking system')\n",
        "!wget https://s3-eu-west-1.amazonaws.com/aicore-portal-public-prod-307050600709/practical_files/dca6cca0-5c59-4952-bb12-9e117dbdbeeb/marking_system.py -q -O marking_system.py\n",
        "import marking_system\n",
        "import importlib\n",
        "importlib.reload(marking_system)\n",
        "import sys\n",
        "ipython = get_ipython()\n",
        "def hide_traceback(exc_tuple=None, filename=None, tb_offset=None, exception_only=False, running_compiled_code=False):\n",
        "    etype, value, tb = sys.exc_info()\n",
        "    value.__cause__ = None  # suppress chained exceptions\n",
        "    return ipython._showtraceback(etype, \"❌ \" + f\"\u001b[91m{value}\", ipython.InteractiveTB.get_exception_only(etype, \"❌ \" + f\"\u001b[91m{value}\"))\n",
        "ipython.showtraceback = hide_traceback\n"
      ]
    },
    {
      "cell_type": "markdown",
      "id": "899a7818",
      "metadata": {
        "id": "899a7818"
      },
      "source": [
        "### 1. Find the maximum value in the following sets:\n"
      ]
    },
    {
      "cell_type": "code",
      "execution_count": null,
      "id": "a3c39a48",
      "metadata": {
        "id": "a3c39a48"
      },
      "outputs": [],
      "source": [
        "set_int = {8, 16, 24, 1, 25, 3, 10, 65, 55}\n",
        "set_str = {'f', 'l', 'k', 'a', 'w'}\n"
      ]
    },
    {
      "cell_type": "markdown",
      "id": "3ec8c47b",
      "metadata": {
        "id": "3ec8c47b"
      },
      "source": [
        "Assign the maximum value to the variables `max_int` and `max_str` respectively."
      ]
    },
    {
      "cell_type": "code",
      "source": [
        "x"
      ],
      "metadata": {
        "id": "UPJl_psD3_kI"
      },
      "id": "UPJl_psD3_kI",
      "execution_count": null,
      "outputs": []
    },
    {
      "cell_type": "code",
      "execution_count": null,
      "id": "a1bf4057",
      "metadata": {
        "colab": {
          "base_uri": "https://localhost:8080/"
        },
        "id": "a1bf4057",
        "outputId": "493374f5-0a87-41de-b18b-84ac32a0aa41"
      },
      "outputs": [
        {
          "output_type": "stream",
          "name": "stdout",
          "text": [
            "65\n",
            "w\n"
          ]
        }
      ],
      "source": [
        "# TODO - Find the maximum value in set_int and assign it to max_int\n",
        "max_int = max(set_int)\n",
        "print(max_int)\n",
        "# TODO - Find the maximum value in set_str and assign it to max_str\n",
        "max_str = max(set_str)\n",
        "print(max_str)\n"
      ]
    },
    {
      "cell_type": "code",
      "execution_count": null,
      "id": "ae56d9db",
      "metadata": {
        "colab": {
          "base_uri": "https://localhost:8080/",
          "height": 78
        },
        "id": "ae56d9db",
        "outputId": "c339973a-4a4e-4728-a44f-32fe6051908e"
      },
      "outputs": [
        {
          "output_type": "error",
          "ename": "AssertionError",
          "evalue": "ignored",
          "traceback": [
            "\u001b[0;31mAssertionError\u001b[0m\u001b[0;31m:\u001b[0m ❌ \u001b[91mThe variable 'max_str' does not exist. Please, create it and try again.\n"
          ]
        }
      ],
      "source": [
        "#@title #### Run this cell to check your answer { display-mode: \"form\", run: \"auto\" }\n",
        "\n",
        "assert \"max_int\" in globals(), \"The variable 'max_int' does not exist. Please, create it and try again.\"\n",
        "assert \"max_str\" in globals(), \"The variable 'max_str' does not exist. Please, create it and try again.\"\n",
        "assert \"set_int\" in globals(), \"The variable 'set_int' does not exist. Please, create it and try again.\"\n",
        "assert \"set_str\" in globals(), \"The variable 'set_str' does not exist. Please, create it and try again.\"\n",
        "\n",
        "marking_system.check_step_1(max_int, max_str, set_int, set_str)\n"
      ]
    },
    {
      "cell_type": "markdown",
      "id": "7baf8d08",
      "metadata": {
        "id": "7baf8d08"
      },
      "source": [
        "### 2. Find the minimum value in the following sets:"
      ]
    },
    {
      "cell_type": "code",
      "execution_count": null,
      "id": "c0aba4a1",
      "metadata": {
        "id": "c0aba4a1"
      },
      "outputs": [],
      "source": [
        "set_int = {4, 12, 10, 9, 4, 13}\n",
        "set_str = {'b', 'z', 't', 'm', 'y', 'c'}\n"
      ]
    },
    {
      "cell_type": "markdown",
      "id": "71b9799e",
      "metadata": {
        "id": "71b9799e"
      },
      "source": [
        "Assign the minimum value to the variables `min_int` and `min_str` respectively."
      ]
    },
    {
      "cell_type": "code",
      "execution_count": null,
      "id": "093b9fbd",
      "metadata": {
        "colab": {
          "base_uri": "https://localhost:8080/"
        },
        "id": "093b9fbd",
        "outputId": "a65f226a-94f1-4644-f792-72939984d8a8"
      },
      "outputs": [
        {
          "output_type": "stream",
          "name": "stdout",
          "text": [
            "1\n",
            "a\n"
          ]
        }
      ],
      "source": [
        "# TODO - Find the minimum value in set_int and assign it to min_int\n",
        "min_int = min(set_int)\n",
        "print(min_int)\n",
        "# TODO - Find the minimum value in set_str and assign it to min_str\n",
        "min_str = min(set_str)\n",
        "print(min_str)"
      ]
    },
    {
      "cell_type": "code",
      "execution_count": null,
      "id": "de8993ff",
      "metadata": {
        "colab": {
          "base_uri": "https://localhost:8080/",
          "height": 78
        },
        "id": "de8993ff",
        "outputId": "e6feced3-9e8d-4323-b5f9-5ea0156c1696"
      },
      "outputs": [
        {
          "output_type": "error",
          "ename": "AssertionError",
          "evalue": "ignored",
          "traceback": [
            "\u001b[0;31mAssertionError\u001b[0m\u001b[0;31m:\u001b[0m ❌ \u001b[91mThe minimum value of set_int is incorrect. It should be 4. But your minimum value is 1.\n"
          ]
        }
      ],
      "source": [
        "#@title #### Run this cell to check your answer { display-mode: \"form\", run: \"auto\" }\n",
        "\n",
        "assert \"min_int\" in globals(), \"The variable 'min_int' does not exist. Please, create it and try again.\"\n",
        "assert \"min_str\" in globals(), \"The variable 'min_str' does not exist. Please, create it and try again.\"\n",
        "assert \"set_int\" in globals(), \"The variable 'set_int' does not exist. Please, create it and try again.\"\n",
        "assert \"set_str\" in globals(), \"The variable 'set_str' does not exist. Please, create it and try again.\"\n",
        "\n",
        "marking_system.check_step_2(min_int, min_str, set_int, set_str)\n"
      ]
    },
    {
      "cell_type": "code",
      "source": [],
      "metadata": {
        "id": "wM8dfRcy4qTl"
      },
      "id": "wM8dfRcy4qTl",
      "execution_count": null,
      "outputs": []
    }
  ],
  "metadata": {
    "kernelspec": {
      "display_name": "content-projects_new",
      "language": "python",
      "name": "python3"
    },
    "language_info": {
      "codemirror_mode": {
        "name": "ipython",
        "version": 3
      },
      "file_extension": ".py",
      "mimetype": "text/x-python",
      "name": "python",
      "nbconvert_exporter": "python",
      "pygments_lexer": "ipython3",
      "version": "3.10.8"
    },
    "vscode": {
      "interpreter": {
        "hash": "4b961f8166aad6ccb4cf65d0f9c742ef9c6c23ffe83ad932438cd83ed96aebaf"
      }
    },
    "colab": {
      "provenance": [],
      "include_colab_link": true
    }
  },
  "nbformat": 4,
  "nbformat_minor": 5
}