{
  "cells": [
    {
      "cell_type": "markdown",
      "metadata": {
        "id": "INTuWR4RaXSA"
      },
      "source": [
        "# Different Variable Types"
      ]
    },
    {
      "cell_type": "code",
      "execution_count": 2,
      "metadata": {
        "id": "3e7342be",
        "outputId": "20381acc-8b89-4408-f407-13e39bb8195c",
        "colab": {
          "base_uri": "https://localhost:8080/"
        }
      },
      "outputs": [
        {
          "output_type": "stream",
          "name": "stdout",
          "text": [
            "Downloading the marking system\n"
          ]
        }
      ],
      "source": [
        "#@title ### Run the following cell to download the necessary files for this practical { display-mode: \"form\" } \n",
        "#@markdown Don't worry about what's in this collapsed cell\n",
        "\n",
        "print('Downloading the marking system')\n",
        "!wget https://s3-eu-west-1.amazonaws.com/aicore-portal-public-prod-307050600709/practical_files/008ee44f-5a60-4574-b00c-6f25230edc27/marking_system.py -q -O marking_system.py\n",
        "import marking_system\n",
        "import importlib\n",
        "importlib.reload(marking_system)\n",
        "import sys\n",
        "ipython = get_ipython()\n",
        "def hide_traceback(exc_tuple=None, filename=None, tb_offset=None, exception_only=False, running_compiled_code=False):\n",
        "    etype, value, tb = sys.exc_info()\n",
        "    value.__cause__ = None  # suppress chained exceptions\n",
        "    return ipython._showtraceback(etype, \"❌ \" + f\"\u001b[91m{value}\", ipython.InteractiveTB.get_exception_only(etype, \"❌ \" + f\"\u001b[91m{value}\"))\n",
        "ipython.showtraceback = hide_traceback\n"
      ]
    },
    {
      "cell_type": "markdown",
      "metadata": {
        "id": "ZELmD9z9aXSM"
      },
      "source": [
        "### 1. Define the the following variables:\n",
        "\n",
        "```python\n",
        "num = 23 \n",
        "text_num = “57”\n",
        "decimal_num = 98.3\n",
        "```"
      ]
    },
    {
      "cell_type": "code",
      "execution_count": 3,
      "metadata": {
        "id": "dWqurXAPaXSN"
      },
      "outputs": [],
      "source": [
        "# TODO: Create a variable called 'num' and assign it the value 23\n",
        "num = 23\n",
        "# TODO: Create a variable called 'text_num' and assign it the value \"57\"\n",
        "text_num = \"57\"\n",
        "# TODO: Create a variable called 'decimal_num' and assign it the value 98.3\n",
        "decimal_num = 98.3\n"
      ]
    },
    {
      "cell_type": "code",
      "execution_count": null,
      "metadata": {
        "id": "5Bdc-WhjaXSO"
      },
      "outputs": [],
      "source": [
        "#@title #### Run this cell to check your solution { display-mode: \"form\", run: \"auto\" }\n",
        "\n",
        "assert \"num\" in globals(), \"You haven't defined the variable 'num'.\"\n",
        "assert \"text_num\" in globals(), \"You haven't defined the variable 'text_num'.\"\n",
        "assert \"decimal_num\" in globals(), \"You haven't defined the variable 'decimal_num'.\"\n",
        "\n",
        "marking_system.check_step_1(num, text_num, decimal_num)\n"
      ]
    },
    {
      "cell_type": "markdown",
      "metadata": {
        "id": "7Qe0K5yKaXSO"
      },
      "source": [
        "### 2. Print the types of each variable (hint: use the `type()` function)"
      ]
    },
    {
      "cell_type": "code",
      "execution_count": 4,
      "metadata": {
        "id": "n3Fpt09CaXSP",
        "outputId": "c6d4df19-5178-458c-9f4d-94a58b9e7dae",
        "colab": {
          "base_uri": "https://localhost:8080/"
        }
      },
      "outputs": [
        {
          "output_type": "stream",
          "name": "stdout",
          "text": [
            "<class 'int'>\n",
            "<class 'str'>\n",
            "<class 'float'>\n"
          ]
        }
      ],
      "source": [
        "# TODO: Print the type of the three variables you created above\n",
        "print(type(num))\n",
        "print(type(text_num))\n",
        "print(type(decimal_num))\n"
      ]
    },
    {
      "cell_type": "code",
      "execution_count": null,
      "metadata": {
        "id": "NbAt37u6aXSQ"
      },
      "outputs": [],
      "source": [
        "#@title #### Enter your solution here { display-mode: \"form\", run: \"auto\" }\n",
        "\n",
        "#@markdown What is the type of the variable 'num'?\n",
        "num_type = \"int\" #@param [\"int\", \"str\", \"float\"] {allow-input: true}\n",
        "#@markdown What is the type of the variable 'text_num'?\n",
        "text_num_type = \"str\" #@param [\"int\", \"str\", \"float\"] {allow-input: true}\n",
        "#@markdown What is the type of the variable 'decimal_num'?\n",
        "decimal_num_type = \"float\" #@param [\"int\", \"str\", \"float\"] {allow-input: true}\n",
        "marking_system.check_step_2(num_type, text_num_type, decimal_num_type)\n"
      ]
    },
    {
      "cell_type": "markdown",
      "metadata": {
        "id": "FFnaVWDgaXSQ"
      },
      "source": [
        "### 3. What happens when you add `num` and `decimal_num`? What about `num` and `text_num`?"
      ]
    },
    {
      "cell_type": "code",
      "execution_count": 5,
      "metadata": {
        "id": "MwbcetOjaXSR",
        "outputId": "209f12b7-6d44-40f0-b890-c40cf5adb40f",
        "colab": {
          "base_uri": "https://localhost:8080/",
          "height": 96
        }
      },
      "outputs": [
        {
          "output_type": "stream",
          "name": "stdout",
          "text": [
            "121.3\n"
          ]
        },
        {
          "output_type": "error",
          "ename": "TypeError",
          "evalue": "ignored",
          "traceback": [
            "\u001b[0;31mTypeError\u001b[0m\u001b[0;31m:\u001b[0m ❌ \u001b[91munsupported operand type(s) for +: 'int' and 'str'\n"
          ]
        }
      ],
      "source": [
        "# TODO: Add the two variables 'num' and 'decimal_num' together\n",
        "print(num + decimal_num)\n",
        "# TODO: Add the two variables 'num' and 'text_num' together\n",
        "print(num + text_num)\n"
      ]
    },
    {
      "cell_type": "code",
      "execution_count": null,
      "metadata": {
        "id": "6bTca0zraXSR"
      },
      "outputs": [],
      "source": [
        "#@title #### Enter your solution here { display-mode: \"form\", run: \"auto\" }\n",
        "\n",
        "#@markdown Could you add \"num\" and \"decimal_num\" together? If not, why not?\n",
        "ans_1 = \"Yes\" #@param [\"Yes\", \"No, because you can't add variables with different types\", \"No, because you can't add integers and floats\"] {allow-input: true}\n",
        "#@markdown Could you add \"num\" and \"text_num\" together? If not, why not?\n",
        "ans_2 = \"No, because you can't add integers and strings\" #@param [\"Yes\", \"No, because you can't add variables with different types\", \"No, because you can't add integers and strings\"] {allow-input: true}\n",
        "\n",
        "marking_system.check_step_3(ans_1, ans_2)\n"
      ]
    },
    {
      "cell_type": "markdown",
      "metadata": {
        "id": "ynEmCxpTaXSS"
      },
      "source": [
        "### 4 . You can change the type of the string `text_num` to an integer by using the `int()` function. Try it out!\n",
        "\n",
        "Create a new variable called `new_num` and assign it the value of `text_num` converted to an integer.\n",
        "\n",
        "Then, add `new_num` and `num` together and print the result."
      ]
    },
    {
      "cell_type": "code",
      "execution_count": 6,
      "metadata": {
        "id": "NSsjfffKaXSU",
        "outputId": "4937f9bc-87b2-49c9-ce04-253470c95f04",
        "colab": {
          "base_uri": "https://localhost:8080/"
        }
      },
      "outputs": [
        {
          "output_type": "stream",
          "name": "stdout",
          "text": [
            "80\n"
          ]
        }
      ],
      "source": [
        "# TODO: Create a new variable called 'new_num' and assign it the value of 'text_num' converted to an integer\n",
        "new_num = int(text_num)\n",
        "# TODO: Print the sum of 'new_num' and 'num'\n",
        "print(new_num + num)\n"
      ]
    },
    {
      "cell_type": "code",
      "execution_count": null,
      "metadata": {
        "id": "NJ64V3tKaXSV"
      },
      "outputs": [],
      "source": [
        "#@title #### Could you add both variables? { display-mode: \"form\", run: \"auto\" }\n",
        "\n",
        "#@markdown Could you add \"num\" and \"new_num\" together? If not, why not?\n",
        "ans_1 = \"Yes\" #@param [\"Yes\", \"No, because you can't add variables with different types\", \"No, because you can't add integers and strings\"] {allow-input: true}\n",
        "\n",
        "marking_system.check_step_4(ans_1)\n"
      ]
    },
    {
      "cell_type": "markdown",
      "metadata": {
        "id": "5bwbtL8yaXSW"
      },
      "source": []
    }
  ],
  "metadata": {
    "kernelspec": {
      "display_name": "content-projects_new",
      "language": "python",
      "name": "python3"
    },
    "language_info": {
      "name": "python",
      "version": "3.10.8"
    },
    "vscode": {
      "interpreter": {
        "hash": "4b961f8166aad6ccb4cf65d0f9c742ef9c6c23ffe83ad932438cd83ed96aebaf"
      }
    },
    "colab": {
      "provenance": []
    }
  },
  "nbformat": 4,
  "nbformat_minor": 0
}