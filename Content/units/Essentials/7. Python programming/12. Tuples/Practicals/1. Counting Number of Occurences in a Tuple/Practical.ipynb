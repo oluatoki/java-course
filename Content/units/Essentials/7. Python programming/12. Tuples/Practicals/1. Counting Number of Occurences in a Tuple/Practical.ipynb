{
  "cells": [
    {
      "cell_type": "markdown",
      "id": "e5bc15ed",
      "metadata": {
        "id": "e5bc15ed"
      },
      "source": [
        "# Counting Number of Occurences in a Tuple"
      ]
    },
    {
      "cell_type": "code",
      "execution_count": 1,
      "id": "7b671f0a",
      "metadata": {
        "id": "7b671f0a",
        "outputId": "1ca39b45-4752-43a9-e5fb-eadabcffd90e",
        "colab": {
          "base_uri": "https://localhost:8080/"
        }
      },
      "outputs": [
        {
          "output_type": "stream",
          "name": "stdout",
          "text": [
            "Downloading the marking system\n"
          ]
        }
      ],
      "source": [
        "#@title ### Run the following cell to download the necessary files for this practical { display-mode: \"form\" } \n",
        "#@markdown Don't worry about what's in this collapsed cell\n",
        "\n",
        "print('Downloading the marking system')\n",
        "!wget https://s3-eu-west-1.amazonaws.com/aicore-portal-public-prod-307050600709/practical_files/7bf6f6bf-84e6-4031-b63f-8d86be5d9945/marking_system.py -q -O marking_system.py\n",
        "import marking_system\n",
        "import importlib\n",
        "importlib.reload(marking_system)\n",
        "import sys\n",
        "ipython = get_ipython()\n",
        "def hide_traceback(exc_tuple=None, filename=None, tb_offset=None, exception_only=False, running_compiled_code=False):\n",
        "    etype, value, tb = sys.exc_info()\n",
        "    value.__cause__ = None  # suppress chained exceptions\n",
        "    return ipython._showtraceback(etype, \"❌ \" + f\"\u001b[91m{value}\", ipython.InteractiveTB.get_exception_only(etype, \"❌ \" + f\"\u001b[91m{value}\"))\n",
        "ipython.showtraceback = hide_traceback\n"
      ]
    },
    {
      "cell_type": "markdown",
      "id": "925f968a",
      "metadata": {
        "id": "925f968a"
      },
      "source": [
        "### Given the following tuple:"
      ]
    },
    {
      "cell_type": "code",
      "execution_count": 2,
      "id": "cd4f8b58",
      "metadata": {
        "id": "cd4f8b58"
      },
      "outputs": [],
      "source": [
        "vowels = ('a', 'e', 'i', 'o', 'i', 'u')\n",
        "\n"
      ]
    },
    {
      "cell_type": "markdown",
      "id": "b22128ba",
      "metadata": {
        "id": "b22128ba"
      },
      "source": [
        "### 1. Count the number of `i`'s in the tuple."
      ]
    },
    {
      "cell_type": "code",
      "execution_count": 3,
      "id": "e243d202",
      "metadata": {
        "id": "e243d202",
        "outputId": "84a7eda8-de11-4bcc-b3f5-28f7d7046a12",
        "colab": {
          "base_uri": "https://localhost:8080/"
        }
      },
      "outputs": [
        {
          "output_type": "stream",
          "name": "stdout",
          "text": [
            "2\n"
          ]
        }
      ],
      "source": [
        "# TODO - Count the number of occurences of 'i' in the tuple\n",
        "count_of_i = vowels.count('i')\n",
        "print(count_of_i)\n"
      ]
    },
    {
      "cell_type": "code",
      "execution_count": null,
      "id": "8f664d8d",
      "metadata": {
        "id": "8f664d8d"
      },
      "outputs": [],
      "source": [
        "#@title #### Enter your answer here { display-mode: \"form\", run: \"auto\" }\n",
        "\n",
        "#@markdown What method did you use to count the number of occurences of 'i' in the tuple?\n",
        "ans = \"count()\" #@param [\"len()\", \"count()\", \"index()\", \"sort()\", \"\"] \n",
        "marking_system.check_step_1(ans)\n"
      ]
    },
    {
      "cell_type": "markdown",
      "id": "8197e816",
      "metadata": {
        "id": "8197e816"
      },
      "source": [
        "### Given the following tuple:"
      ]
    },
    {
      "cell_type": "code",
      "execution_count": 4,
      "id": "42f60ca0",
      "metadata": {
        "id": "42f60ca0"
      },
      "outputs": [],
      "source": [
        "my_tuple = (1, 'f', [1, 2, 3], [4, 5], ('f', 'd'), ('f', 'd', 'e'), [1, 2, 3], 'a')\n"
      ]
    },
    {
      "cell_type": "markdown",
      "id": "af683ae6",
      "metadata": {
        "id": "af683ae6"
      },
      "source": [
        "### 2. Count the number of `[1, 2, 3]`'s and `('f', 'd')`'s in the tuple.\n",
        "\n",
        "Assign each number to the variables `count_1`, and `count_2` respectively."
      ]
    },
    {
      "cell_type": "code",
      "execution_count": 11,
      "id": "19d66d54",
      "metadata": {
        "id": "19d66d54",
        "outputId": "2a24688e-f091-4372-cbe8-7bcbbab92e61",
        "colab": {
          "base_uri": "https://localhost:8080/"
        }
      },
      "outputs": [
        {
          "output_type": "stream",
          "name": "stdout",
          "text": [
            "2\n",
            "1\n"
          ]
        }
      ],
      "source": [
        "# TODO - Count the number of occurences of [1, 2, 3] in the tuple\n",
        "count_1 = my_tuple.count([1,2,3])\n",
        "print(count_1)\n",
        "# TODO - Count the number of occurences of ('f', 'd') in the tuple\n",
        "count_2 = my_tuple.count(('f','d'))\n",
        "print(count_2)\n"
      ]
    },
    {
      "cell_type": "code",
      "execution_count": 12,
      "id": "7d815c46",
      "metadata": {
        "id": "7d815c46",
        "outputId": "a9cb9a0a-9fda-4c00-b4b8-cf42791c7997",
        "colab": {
          "base_uri": "https://localhost:8080/"
        }
      },
      "outputs": [
        {
          "output_type": "stream",
          "name": "stdout",
          "text": [
            "\u001b[92m✔ Well done! Each element in a tuple is treated as a single object, regardless of its data type.\n"
          ]
        }
      ],
      "source": [
        "#@title #### Run this cell to check your code { display-mode: \"form\", run: \"auto\" }\n",
        "assert \"my_tuple\" in globals(), \"You did not create the tuple.\"\n",
        "assert \"count_1\" in globals(), \"You did not use the 'count()' method to count the number of occurences of [1, 2, 3] in the tuple.\"\n",
        "assert \"count_2\" in globals(), \"You did not use the 'count()' method to count the number of occurences of ('f', 'd') in the tuple.\"\n",
        "\n",
        "marking_system.check_step_2(count_1, count_2, my_tuple)\n"
      ]
    },
    {
      "cell_type": "code",
      "source": [
        "\n"
      ],
      "metadata": {
        "id": "VgvC32qQARMO"
      },
      "id": "VgvC32qQARMO",
      "execution_count": null,
      "outputs": []
    }
  ],
  "metadata": {
    "kernelspec": {
      "display_name": "content-projects_new",
      "language": "python",
      "name": "python3"
    },
    "language_info": {
      "codemirror_mode": {
        "name": "ipython",
        "version": 3
      },
      "file_extension": ".py",
      "mimetype": "text/x-python",
      "name": "python",
      "nbconvert_exporter": "python",
      "pygments_lexer": "ipython3",
      "version": "3.9.15"
    },
    "vscode": {
      "interpreter": {
        "hash": "4b961f8166aad6ccb4cf65d0f9c742ef9c6c23ffe83ad932438cd83ed96aebaf"
      }
    },
    "colab": {
      "provenance": []
    }
  },
  "nbformat": 4,
  "nbformat_minor": 5
}