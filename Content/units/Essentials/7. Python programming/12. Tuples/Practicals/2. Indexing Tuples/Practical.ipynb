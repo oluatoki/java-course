{
  "cells": [
    {
      "cell_type": "markdown",
      "id": "545b630a",
      "metadata": {
        "id": "545b630a"
      },
      "source": [
        "# Indexing Tuples"
      ]
    },
    {
      "cell_type": "code",
      "execution_count": 1,
      "id": "067495b7",
      "metadata": {
        "id": "067495b7",
        "outputId": "28f1751a-0dc4-4106-baac-52b3744a9c1b",
        "colab": {
          "base_uri": "https://localhost:8080/"
        }
      },
      "outputs": [
        {
          "output_type": "stream",
          "name": "stdout",
          "text": [
            "Downloading the marking system\n"
          ]
        }
      ],
      "source": [
        "#@title ### Run the following cell to download the necessary files for this practical { display-mode: \"form\" } \n",
        "#@markdown Don't worry about what's in this collapsed cell\n",
        "\n",
        "print('Downloading the marking system')\n",
        "!wget https://s3-eu-west-1.amazonaws.com/aicore-portal-public-prod-307050600709/practical_files/25cde45f-b3bc-44c7-aef2-2d6b553186e8/marking_system.py -q -O marking_system.py\n",
        "import marking_system\n",
        "import importlib\n",
        "importlib.reload(marking_system)\n",
        "import sys\n",
        "ipython = get_ipython()\n",
        "def hide_traceback(exc_tuple=None, filename=None, tb_offset=None, exception_only=False, running_compiled_code=False):\n",
        "    etype, value, tb = sys.exc_info()\n",
        "    value.__cause__ = None  # suppress chained exceptions\n",
        "    return ipython._showtraceback(etype, \"❌ \" + f\"\u001b[91m{value}\", ipython.InteractiveTB.get_exception_only(etype, \"❌ \" + f\"\u001b[91m{value}\"))\n",
        "ipython.showtraceback = hide_traceback\n"
      ]
    },
    {
      "cell_type": "markdown",
      "id": "ffde8a93",
      "metadata": {
        "id": "ffde8a93"
      },
      "source": [
        "### Given the following tuple"
      ]
    },
    {
      "cell_type": "code",
      "execution_count": 4,
      "id": "f39d26ef",
      "metadata": {
        "id": "f39d26ef"
      },
      "outputs": [],
      "source": [
        "vowels = ('a', 'e', 'i', 'o', 'i', 'u')\n"
      ]
    },
    {
      "cell_type": "markdown",
      "id": "4e9c7de7",
      "metadata": {
        "id": "4e9c7de7"
      },
      "source": [
        "### 1. Find the first occurrence of `e` element and assign it to a variable called `first_e`\n",
        "\n",
        "_Hint: Use the `index()` method_"
      ]
    },
    {
      "cell_type": "code",
      "execution_count": 9,
      "id": "a4252213",
      "metadata": {
        "id": "a4252213",
        "outputId": "156cfeee-668a-445a-d57b-93af0ccb8e2b",
        "colab": {
          "base_uri": "https://localhost:8080/"
        }
      },
      "outputs": [
        {
          "output_type": "stream",
          "name": "stdout",
          "text": [
            "1\n"
          ]
        }
      ],
      "source": [
        "# TODO - find the index of the first 'e' in the tuple\n",
        "first_e = vowels.index('e')\n",
        "print(first_e)\n",
        "\n"
      ]
    },
    {
      "cell_type": "code",
      "execution_count": 6,
      "id": "a6cf9cae",
      "metadata": {
        "id": "a6cf9cae",
        "outputId": "8bc1cfba-ec99-422c-db2f-756aa9e896ab",
        "colab": {
          "base_uri": "https://localhost:8080/",
          "height": 78
        }
      },
      "outputs": [
        {
          "output_type": "error",
          "ename": "AssertionError",
          "evalue": "ignored",
          "traceback": [
            "\u001b[0;31mAssertionError\u001b[0m\u001b[0;31m:\u001b[0m ❌ \u001b[91mYou need to define the variable 'first_e'.\n"
          ]
        }
      ],
      "source": [
        "#@title #### Run this cell to check your answer { display-mode: \"form\", run: \"auto\" }\n",
        "\n",
        "assert \"first_e\" in globals(), \"You need to define the variable 'first_e'.\"\n",
        "marking_system.check_step_1(first_e)\n"
      ]
    },
    {
      "cell_type": "markdown",
      "id": "ccf5eb31",
      "metadata": {
        "id": "ccf5eb31"
      },
      "source": [
        "### 2. Find the first occurrence of `i` element.\n",
        "\n",
        "Assign it to a variable called `first_i`"
      ]
    },
    {
      "cell_type": "code",
      "execution_count": 10,
      "id": "daf5edee",
      "metadata": {
        "id": "daf5edee",
        "outputId": "24fa61a8-ed9e-4819-c5a5-830478fa8d86",
        "colab": {
          "base_uri": "https://localhost:8080/"
        }
      },
      "outputs": [
        {
          "output_type": "stream",
          "name": "stdout",
          "text": [
            "2\n"
          ]
        }
      ],
      "source": [
        "# TODO - find the index of the first 'i' in the tuple\n",
        "first_i = vowels.index('i')\n",
        "print(first_i)\n"
      ]
    },
    {
      "cell_type": "code",
      "execution_count": null,
      "id": "7df663be",
      "metadata": {
        "id": "7df663be"
      },
      "outputs": [],
      "source": [
        "#@title #### Run this cell to check your answer { display-mode: \"form\", run: \"auto\" }\n",
        "\n",
        "assert \"first_i\" in globals(), \"You need to define the variable 'first_i'.\"\n",
        "\n",
        "#@markdown How many elements does `first_i` contain?\n",
        "ans = \"2\" #@param [\"\", \"1\", \"2\", \"3\", \"4\"]\n",
        "\n",
        "marking_system.check_step_2(first_i, ans)\n"
      ]
    },
    {
      "cell_type": "markdown",
      "id": "7cedae76",
      "metadata": {
        "id": "7cedae76"
      },
      "source": [
        "### 3. Find the first occurrence of `b` element. What does this return? What is the meaning of this error?"
      ]
    },
    {
      "cell_type": "code",
      "execution_count": 11,
      "id": "6b5249e6",
      "metadata": {
        "id": "6b5249e6",
        "outputId": "ce01b273-0d69-44cb-95c4-0bdcaed2f893",
        "colab": {
          "base_uri": "https://localhost:8080/",
          "height": 78
        }
      },
      "outputs": [
        {
          "output_type": "error",
          "ename": "ValueError",
          "evalue": "ignored",
          "traceback": [
            "\u001b[0;31mValueError\u001b[0m\u001b[0;31m:\u001b[0m ❌ \u001b[91mtuple.index(x): x not in tuple\n"
          ]
        }
      ],
      "source": [
        "# TODO - Try to find the index of 'b' in the tuple\n",
        "first_b = vowels.index('b')\n",
        "print(first_b)\n"
      ]
    },
    {
      "cell_type": "code",
      "execution_count": null,
      "id": "7bd16f5d",
      "metadata": {
        "id": "7bd16f5d"
      },
      "outputs": [],
      "source": [
        "#@title #### Run this cell to check your answer { display-mode: \"form\", run: \"auto\" }\n",
        "\n",
        "#@markdown What message do you get?\n",
        "ans = \"ValueError: tuple.index(x): x not in tuple\" #@param [\"\", \"No message\", \"IndexError: tuple.index(x): x not in tuple\", \"ValueError: tuple.index(x): x not in tuple\", \"TypeError: tuple.index(x): x not in tuple\"]\n",
        "\n",
        "marking_system.check_step_3(ans)\n"
      ]
    },
    {
      "cell_type": "markdown",
      "id": "21d25008",
      "metadata": {
        "id": "21d25008"
      },
      "source": [
        "### 4. Find the first occurrence of `i` elements starting from index 4."
      ]
    },
    {
      "cell_type": "code",
      "execution_count": 14,
      "id": "5c24300f",
      "metadata": {
        "id": "5c24300f"
      },
      "outputs": [],
      "source": [
        "letters_tuple = ('a', 'e', 'i', 'o', 'u', 'g', 'l', 'm', 'n', 'p', 'r', 's', 't', 'i', 'v', 'w', 'y')\n",
        "\n"
      ]
    },
    {
      "cell_type": "code",
      "execution_count": 15,
      "id": "e516175e",
      "metadata": {
        "id": "e516175e",
        "outputId": "19591e8c-e04a-4d7e-eca3-403dad0467db",
        "colab": {
          "base_uri": "https://localhost:8080/"
        }
      },
      "outputs": [
        {
          "output_type": "stream",
          "name": "stdout",
          "text": [
            "9\n"
          ]
        }
      ],
      "source": [
        "# TODO - find the index of the first 'i' in the tuple after index 4\n",
        "first_i_after4 = letters_tuple[4:].index('i')\n",
        "print(first_i_after4)\n"
      ]
    },
    {
      "cell_type": "code",
      "execution_count": 16,
      "id": "e5b0ce86",
      "metadata": {
        "id": "e5b0ce86",
        "outputId": "525cb8be-3bb2-494a-8605-f4e7a4a850bd",
        "colab": {
          "base_uri": "https://localhost:8080/",
          "height": 78
        }
      },
      "outputs": [
        {
          "output_type": "error",
          "ename": "AssertionError",
          "evalue": "ignored",
          "traceback": [
            "\u001b[0;31mAssertionError\u001b[0m\u001b[0;31m:\u001b[0m ❌ \u001b[91mYour answer is incorrect. Make sure that you are specifying the index to start searching from.\n"
          ]
        }
      ],
      "source": [
        "#@title #### Enter your answer here { display-mode: \"form\", run: \"auto\" }\n",
        "\n",
        "#@markdown What is the index of the 'i' character starting from index 4?\n",
        "ans = \"9\" #@param [\"\", \"4\", \"5\", \"6\", \"7\", \"8\", \"9\", \"10\", \"11\", \"12\", \"13\", \"14\", \"15\"]\n",
        "\n",
        "marking_system.check_step_4(ans)\n"
      ]
    },
    {
      "cell_type": "code",
      "source": [],
      "metadata": {
        "id": "NflpjQ2zQ5kx"
      },
      "id": "NflpjQ2zQ5kx",
      "execution_count": null,
      "outputs": []
    }
  ],
  "metadata": {
    "kernelspec": {
      "display_name": "content-projects_new",
      "language": "python",
      "name": "python3"
    },
    "language_info": {
      "codemirror_mode": {
        "name": "ipython",
        "version": 3
      },
      "file_extension": ".py",
      "mimetype": "text/x-python",
      "name": "python",
      "nbconvert_exporter": "python",
      "pygments_lexer": "ipython3",
      "version": "3.10.8"
    },
    "vscode": {
      "interpreter": {
        "hash": "4b961f8166aad6ccb4cf65d0f9c742ef9c6c23ffe83ad932438cd83ed96aebaf"
      }
    },
    "colab": {
      "provenance": []
    }
  },
  "nbformat": 4,
  "nbformat_minor": 5
}