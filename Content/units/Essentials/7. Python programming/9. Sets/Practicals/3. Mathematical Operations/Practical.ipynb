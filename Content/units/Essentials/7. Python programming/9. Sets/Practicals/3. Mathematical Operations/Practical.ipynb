{
  "cells": [
    {
      "cell_type": "markdown",
      "id": "00f4d161",
      "metadata": {
        "id": "00f4d161"
      },
      "source": [
        "# Mathematical Operations"
      ]
    },
    {
      "cell_type": "code",
      "execution_count": 1,
      "id": "7634719d",
      "metadata": {
        "colab": {
          "base_uri": "https://localhost:8080/"
        },
        "id": "7634719d",
        "outputId": "5153b1bd-ef56-47db-a27d-effbe5212f77"
      },
      "outputs": [
        {
          "output_type": "stream",
          "name": "stdout",
          "text": [
            "Downloading the marking system\n"
          ]
        }
      ],
      "source": [
        "#@title ### Run the following cell to download the necessary files for this practical { display-mode: \"form\" } \n",
        "#@markdown Don't worry about what's in this collapsed cell\n",
        "\n",
        "print('Downloading the marking system')\n",
        "!wget https://s3-eu-west-1.amazonaws.com/aicore-portal-public-prod-307050600709/practical_files/7a76d5b2-00c5-45e6-8055-adae77800ad6/marking_system.py -q -O marking_system.py\n",
        "import marking_system\n",
        "import importlib\n",
        "importlib.reload(marking_system)\n",
        "import sys\n",
        "ipython = get_ipython()\n",
        "def hide_traceback(exc_tuple=None, filename=None, tb_offset=None, exception_only=False, running_compiled_code=False):\n",
        "    etype, value, tb = sys.exc_info()\n",
        "    value.__cause__ = None  # suppress chained exceptions\n",
        "    return ipython._showtraceback(etype, \"❌ \" + f\"\u001b[91m{value}\", ipython.InteractiveTB.get_exception_only(etype, \"❌ \" + f\"\u001b[91m{value}\"))\n",
        "ipython.showtraceback = hide_traceback\n"
      ]
    },
    {
      "cell_type": "markdown",
      "id": "9f7bba24",
      "metadata": {
        "id": "9f7bba24"
      },
      "source": [
        "### Given the following two sets:\n"
      ]
    },
    {
      "cell_type": "code",
      "execution_count": 3,
      "id": "4c03c49d",
      "metadata": {
        "id": "4c03c49d"
      },
      "outputs": [],
      "source": [
        "set_1 = {15, 25, 35, 45, 55}\n",
        "set_2 = {35, 45, 55, 65, 75}\n"
      ]
    },
    {
      "cell_type": "markdown",
      "id": "69ff412a",
      "metadata": {
        "id": "69ff412a"
      },
      "source": [
        "### 1. Create a set with the common items and name it `common_items`"
      ]
    },
    {
      "cell_type": "code",
      "execution_count": 4,
      "id": "0db2b447",
      "metadata": {
        "colab": {
          "base_uri": "https://localhost:8080/"
        },
        "id": "0db2b447",
        "outputId": "56611564-50d7-495c-912a-7fe6d2c3ac33"
      },
      "outputs": [
        {
          "output_type": "stream",
          "name": "stdout",
          "text": [
            "{35, 45, 55}\n"
          ]
        }
      ],
      "source": [
        "# TODO - Find common items in both sets\n",
        "common_items = set_1.intersection(set_2)\n",
        "print(common_items)\n"
      ]
    },
    {
      "cell_type": "code",
      "execution_count": null,
      "id": "70af57b9",
      "metadata": {
        "id": "70af57b9"
      },
      "outputs": [],
      "source": [
        "#@title #### Enter your solution here { display-mode: \"form\", run: \"auto\" }\n",
        "\n",
        "assert \"common_items\" in globals(), \"Please, make sure you create the variable 'common_items' and try again.\"\n",
        "assert \"set_1\" in globals(), \"Please, make sure you create the variable 'set_1' and try again.\"\n",
        "assert \"set_2\" in globals(), \"Please, make sure you create the variable 'set_2' and try again.\"\n",
        "#@markdown What is the method you used to find the common items in both sets?\n",
        "ans = \"intersection\" #@param [\"union\", \"intersection\", \"difference\", \"symmetric_difference\"] \n",
        "marking_system.check_step_1(common_items, ans, set_1, set_2)\n"
      ]
    },
    {
      "cell_type": "markdown",
      "id": "96e67a15",
      "metadata": {
        "id": "96e67a15"
      },
      "source": [
        "### 2. Create a set with the items that are in `set_1` but not in `set_2` and name it `set_1_only`"
      ]
    },
    {
      "cell_type": "code",
      "execution_count": 5,
      "id": "d6cccda4",
      "metadata": {
        "colab": {
          "base_uri": "https://localhost:8080/"
        },
        "id": "d6cccda4",
        "outputId": "fe1f855f-276d-40ae-8b13-e42f62454e01"
      },
      "outputs": [
        {
          "output_type": "stream",
          "name": "stdout",
          "text": [
            "{25, 15}\n"
          ]
        }
      ],
      "source": [
        "# TODO - Find items in set_1 but not in set_2\n",
        "set_1_only = set_1.difference(set_2)\n",
        "print(set_1_only)\n"
      ]
    },
    {
      "cell_type": "code",
      "execution_count": null,
      "id": "dec49074",
      "metadata": {
        "id": "dec49074"
      },
      "outputs": [],
      "source": [
        "#@title #### Enter your solution here { display-mode: \"form\", run: \"auto\" }\n",
        "\n",
        "assert \"set_1_only\" in globals(), \"Please, make sure you create the variable 'set_1_only' and try again.\"\n",
        "assert \"set_1\" in globals(), \"Please, make sure you create the variable 'set_1' and try again.\"\n",
        "assert \"set_2\" in globals(), \"Please, make sure you create the variable 'set_2' and try again.\"\n",
        "#@markdown What is the method you used to find the items in set_1 but not in set_2?\n",
        "ans = \"difference\" #@param [\"union\", \"intersection\", \"difference\", \"symmetric_difference\"] \n",
        "marking_system.check_step_2(set_1_only, ans, set_1, set_2)\n"
      ]
    },
    {
      "cell_type": "markdown",
      "id": "17dc205d",
      "metadata": {
        "id": "17dc205d"
      },
      "source": [
        "### 3. Create a set with the items that are in `set_2` but not in `set_1` and name it `set_2_only`"
      ]
    },
    {
      "cell_type": "code",
      "execution_count": 6,
      "id": "a85e0e8b",
      "metadata": {
        "colab": {
          "base_uri": "https://localhost:8080/"
        },
        "id": "a85e0e8b",
        "outputId": "6352d200-98c3-4635-b670-97b6e0cb393a"
      },
      "outputs": [
        {
          "output_type": "stream",
          "name": "stdout",
          "text": [
            "{65, 75}\n"
          ]
        }
      ],
      "source": [
        "# TODO - Find items in set_2 but not in set_1\n",
        "set_2_only = set_2.difference(set_1)\n",
        "print(set_2_only)\n"
      ]
    },
    {
      "cell_type": "code",
      "execution_count": null,
      "id": "33a4b273",
      "metadata": {
        "id": "33a4b273"
      },
      "outputs": [],
      "source": [
        "#@title #### Enter your solution here { display-mode: \"form\", run: \"auto\" }\n",
        "\n",
        "assert \"set_2_only\" in globals(), \"Please, make sure you create the variable 'set_2_only' and try again.\"\n",
        "assert \"set_1\" in globals(), \"Please, make sure you create the variable 'set_1' and try again.\"\n",
        "assert \"set_2\" in globals(), \"Please, make sure you create the variable 'set_2' and try again.\"\n",
        "#@markdown What is the method you used to find the items in set_2 but not in set_1?\n",
        "ans = \"difference\" #@param [\"union\", \"intersection\", \"difference\", \"symmetric_difference\"]\n",
        "marking_system.check_step_3(set_2_only, ans, set_1, set_2)\n"
      ]
    },
    {
      "cell_type": "markdown",
      "source": [],
      "metadata": {
        "id": "9wvjG4N9IVEs"
      },
      "id": "9wvjG4N9IVEs"
    },
    {
      "cell_type": "markdown",
      "id": "6b7cdf82",
      "metadata": {
        "id": "6b7cdf82"
      },
      "source": [
        "### 4. Create a set that are in either `set_1` or `set_2` and name it `set_1_and_2`\n",
        "\n",
        "For example, if `set_1` is `{1, 2, 3, 4, 5}` and `set_2` is `{3, 4, 5, 6, 7}`, then `set_1_and_2` should be `{1, 2, 3, 4, 5, 6, 7}`."
      ]
    },
    {
      "cell_type": "code",
      "execution_count": 7,
      "id": "5f99c8fb",
      "metadata": {
        "colab": {
          "base_uri": "https://localhost:8080/"
        },
        "id": "5f99c8fb",
        "outputId": "c30f637f-bcc4-4f1a-dd22-3376834832db"
      },
      "outputs": [
        {
          "output_type": "stream",
          "name": "stdout",
          "text": [
            "{65, 35, 75, 45, 15, 55, 25}\n"
          ]
        }
      ],
      "source": [
        "# TODO - Find all items in either set_1 or set_2\n",
        "set_1_and_2 = set_1.union(set_2)\n",
        "print(set_1_and_2)\n",
        "\n"
      ]
    },
    {
      "cell_type": "code",
      "execution_count": null,
      "id": "4d8ea42f",
      "metadata": {
        "id": "4d8ea42f"
      },
      "outputs": [],
      "source": [
        "#@title #### Enter your solution here { display-mode: \"form\", run: \"auto\" }\n",
        "\n",
        "assert \"set_1_and_2\" in globals(), \"Please, make sure you create the variable 'set_1_and_2' and try again.\"\n",
        "assert \"set_1\" in globals(), \"Please, make sure you create the variable 'set_1' and try again.\"\n",
        "assert \"set_2\" in globals(), \"Please, make sure you create the variable 'set_2' and try again.\"\n",
        "#@markdown What is the method you used to find all items in set_1 and set_2?\n",
        "ans = \"union\" #@param [\"union\", \"intersection\", \"difference\", \"symmetric_difference\"] \n",
        "marking_system.check_step_4(set_1_and_2, ans, set_1, set_2)\n"
      ]
    },
    {
      "cell_type": "markdown",
      "id": "7d8bc7ab",
      "metadata": {
        "id": "7d8bc7ab"
      },
      "source": [
        "### 5. Return a set that contains items in `set_1` or `set_2` but not in both and name it `set_1_or_2`"
      ]
    },
    {
      "cell_type": "code",
      "execution_count": 8,
      "id": "43fbe9ed",
      "metadata": {
        "colab": {
          "base_uri": "https://localhost:8080/"
        },
        "id": "43fbe9ed",
        "outputId": "448f393f-73bb-4178-f432-8d9a9dd748b2"
      },
      "outputs": [
        {
          "output_type": "stream",
          "name": "stdout",
          "text": [
            "{65, 25, 75, 15}\n"
          ]
        }
      ],
      "source": [
        "# TODO - Find items in set_1 or set_2 but not both\n",
        "set_1_or_2 = set_1.symmetric_difference(set_2)\n",
        "print(set_1_or_2)\n"
      ]
    },
    {
      "cell_type": "code",
      "execution_count": null,
      "id": "5fd7ee1b",
      "metadata": {
        "id": "5fd7ee1b"
      },
      "outputs": [],
      "source": [
        "#@title #### Enter your solution here { display-mode: \"form\", run: \"auto\" }\n",
        "\n",
        "assert \"set_1_or_2\" in globals(), \"Please, make sure you create the variable 'set_1_or_2' and try again.\"\n",
        "assert \"set_1\" in globals(), \"Please, make sure you create the variable 'set_1' and try again.\"\n",
        "assert \"set_2\" in globals(), \"Please, make sure you create the variable 'set_2' and try again.\"\n",
        "#@markdown What is the method you used to find items in set_1 or set_2 but not both?\n",
        "ans = \"symmetric_difference\" #@param [\"union\", \"intersection\", \"difference\", \"symmetric_difference\"] \n",
        "marking_system.check_step_5(set_1_or_2, ans, set_1, set_2)\n"
      ]
    }
  ],
  "metadata": {
    "kernelspec": {
      "display_name": "content-projects_new",
      "language": "python",
      "name": "python3"
    },
    "language_info": {
      "name": "python",
      "version": "3.10.8"
    },
    "vscode": {
      "interpreter": {
        "hash": "4b961f8166aad6ccb4cf65d0f9c742ef9c6c23ffe83ad932438cd83ed96aebaf"
      }
    },
    "colab": {
      "provenance": []
    }
  },
  "nbformat": 4,
  "nbformat_minor": 5
}