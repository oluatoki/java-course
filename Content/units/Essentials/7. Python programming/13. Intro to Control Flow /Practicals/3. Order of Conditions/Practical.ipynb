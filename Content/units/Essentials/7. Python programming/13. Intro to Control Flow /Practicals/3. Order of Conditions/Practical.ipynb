{
  "cells": [
    {
      "cell_type": "markdown",
      "id": "89107eb1",
      "metadata": {
        "id": "89107eb1"
      },
      "source": [
        "# Order of Conditions"
      ]
    },
    {
      "cell_type": "code",
      "execution_count": 1,
      "id": "034ddf9f",
      "metadata": {
        "colab": {
          "base_uri": "https://localhost:8080/"
        },
        "id": "034ddf9f",
        "outputId": "05c8ac49-4f03-4d25-bb09-4b7112d841b0"
      },
      "outputs": [
        {
          "output_type": "stream",
          "name": "stdout",
          "text": [
            "  Preparing metadata (setup.py) ... \u001b[?25l\u001b[?25hdone\n",
            "  Building wheel for timeout-decorator (setup.py) ... \u001b[?25l\u001b[?25hdone\n",
            "Downloading the marking system\n",
            "Downloading order_conditions.py...\n"
          ]
        }
      ],
      "source": [
        "#@title ### Run the following cell to download the necessary files for this practical { display-mode: \"form\" } \n",
        "#@markdown Don't worry about what's in this collapsed cell\n",
        "\n",
        "!pip install -q timeout-decorator\n",
        "print('Downloading the marking system')\n",
        "!wget https://s3-eu-west-1.amazonaws.com/aicore-portal-public-prod-307050600709/practical_files/e0ef4463-6a6a-4c0c-9448-0b9889fceaad/marking_system.py -q -O marking_system.py\n",
        "import marking_system\n",
        "import importlib\n",
        "importlib.reload(marking_system)\n",
        "import sys\n",
        "ipython = get_ipython()\n",
        "def hide_traceback(exc_tuple=None, filename=None, tb_offset=None, exception_only=False, running_compiled_code=False):\n",
        "    etype, value, tb = sys.exc_info()\n",
        "    value.__cause__ = None  # suppress chained exceptions\n",
        "    return ipython._showtraceback(etype, \"❌ \" + f\"\u001b[91m{value}\", ipython.InteractiveTB.get_exception_only(etype, \"❌ \" + f\"\u001b[91m{value}\"))\n",
        "ipython.showtraceback = hide_traceback\n",
        "print('Downloading order_conditions.py...')\n",
        "!wget https://s3-eu-west-1.amazonaws.com/aicore-portal-public-prod-307050600709/practical_files/e0ef4463-6a6a-4c0c-9448-0b9889fceaad/order_conditions.py -q -O order_conditions.py\n"
      ]
    },
    {
      "cell_type": "markdown",
      "id": "aed02924",
      "metadata": {
        "id": "aed02924"
      },
      "source": [
        "### 1. Run the following code, and enter `5`, `20`, and `50` as the input values.\n",
        "\n",
        "Do you notice something strange?"
      ]
    },
    {
      "cell_type": "code",
      "execution_count": 2,
      "id": "a6beec03",
      "metadata": {
        "colab": {
          "base_uri": "https://localhost:8080/"
        },
        "id": "a6beec03",
        "outputId": "77a2495e-8693-4e08-86b2-8ff95ab8a3ce"
      },
      "outputs": [
        {
          "output_type": "stream",
          "name": "stdout",
          "text": [
            "Enter a number: 67\n",
            "x is greater than 0\n"
          ]
        }
      ],
      "source": [
        "x = int(input('Enter a number: '))\n",
        "\n",
        "if x > 0:\n",
        "    print('x is greater than 0')\n",
        "elif x > 15:\n",
        "    print('x is greater than 15')\n",
        "elif x > 20: \n",
        "    print('x is greater than 20')\n",
        "else:\n",
        "    print('x is less than 0')\n"
      ]
    },
    {
      "cell_type": "markdown",
      "id": "d9377a39",
      "metadata": {
        "id": "d9377a39"
      },
      "source": [
        "### 2. Change the order of the conditions so that the correct output is printed for each input.\n",
        "\n",
        "Use the following code cell to get started."
      ]
    },
    {
      "cell_type": "code",
      "execution_count": 5,
      "id": "732f6638",
      "metadata": {
        "colab": {
          "base_uri": "https://localhost:8080/"
        },
        "id": "732f6638",
        "outputId": "78785647-b10b-4dca-b59f-9fe434182387"
      },
      "outputs": [
        {
          "output_type": "stream",
          "name": "stdout",
          "text": [
            "Enter a number: 0\n",
            "x is less than 0\n"
          ]
        }
      ],
      "source": [
        "x = int(input('Enter a number: '))\n",
        "\n",
        "# Add your code below this line\n",
        "# TODO - Change the order of the conditions so that the correct output is printed. Use only the conditions to check if x is greater than 20, 15 or 0.\n",
        "# Add your code above this line\n",
        "if x > 20:\n",
        "  print('x is greater than 20')\n",
        "elif x > 15:\n",
        "  print('x is greater than 15')\n",
        "elif x > 0:\n",
        "  print('x is greater than 0')\n",
        "else:\n",
        "  print('x is less than 0')\n",
        "\n",
        "\n"
      ]
    },
    {
      "cell_type": "code",
      "execution_count": 6,
      "id": "72f3a5ee",
      "metadata": {
        "colab": {
          "base_uri": "https://localhost:8080/"
        },
        "id": "72f3a5ee",
        "outputId": "eb5c020f-a78f-48dc-bb55-7223c5dedb3e"
      },
      "outputs": [
        {
          "output_type": "stream",
          "name": "stdout",
          "text": [
            "\u001b[92m✔ Well done! You successfully ordered the conditions. Now, the conditions will be checked in the correct order.\n"
          ]
        }
      ],
      "source": [
        "#@title #### Run this cell to check if your code looks good { display-mode: \"form\"}\n",
        "assert \"# Add your code below this line\" in _ih[-2], \"Before checking your code, make sure the last cell you ran contains your code. If you did, make sure you haven't deleted the comment that says '# Add your code below this line'.\"\n",
        "assert \"#@title\" not in _ih[-2], \"If you want to check your code, rerun the cell that contains your code. If you did, make sure you haven't deleted the comment that says '# Add your code below this line'.\"\n",
        "assert \"# Add your code above this line\" in _ih[-2], \"Before checking your code, make sure the last cell you ran contains your code. If you did, make sure you haven't deleted the comment that says '# Add your code above this line'.\"\n",
        "marking_system.check_step_1(_ih[-2])\n"
      ]
    },
    {
      "cell_type": "code",
      "source": [],
      "metadata": {
        "id": "GmtU83wTDiYc"
      },
      "id": "GmtU83wTDiYc",
      "execution_count": null,
      "outputs": []
    }
  ],
  "metadata": {
    "kernelspec": {
      "display_name": "content-projects_new",
      "language": "python",
      "name": "python3"
    },
    "language_info": {
      "codemirror_mode": {
        "name": "ipython",
        "version": 3
      },
      "file_extension": ".py",
      "mimetype": "text/x-python",
      "name": "python",
      "nbconvert_exporter": "python",
      "pygments_lexer": "ipython3",
      "version": "3.9.15"
    },
    "vscode": {
      "interpreter": {
        "hash": "4b961f8166aad6ccb4cf65d0f9c742ef9c6c23ffe83ad932438cd83ed96aebaf"
      }
    },
    "colab": {
      "provenance": []
    }
  },
  "nbformat": 4,
  "nbformat_minor": 5
}