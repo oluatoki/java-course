{
  "cells": [
    {
      "cell_type": "markdown",
      "id": "981f2cf0",
      "metadata": {
        "id": "981f2cf0"
      },
      "source": [
        "# Unique Elements in a List"
      ]
    },
    {
      "cell_type": "code",
      "execution_count": 2,
      "id": "ae5dcb60",
      "metadata": {
        "colab": {
          "base_uri": "https://localhost:8080/"
        },
        "id": "ae5dcb60",
        "outputId": "72f2dfca-6a6c-48b6-e731-da4f96903b3c"
      },
      "outputs": [
        {
          "output_type": "stream",
          "name": "stdout",
          "text": [
            "Downloading the marking system\n"
          ]
        }
      ],
      "source": [
        "#@title ### Run the following cell to download the necessary files for this practical { display-mode: \"form\" } \n",
        "#@markdown Don't worry about what's in this collapsed cell\n",
        "\n",
        "print('Downloading the marking system')\n",
        "!wget https://s3-eu-west-1.amazonaws.com/aicore-portal-public-prod-307050600709/practical_files/687434dd-0cfa-4764-8158-d2fcfec094dc/marking_system.py -q -O marking_system.py\n",
        "import marking_system\n",
        "import importlib\n",
        "importlib.reload(marking_system)\n",
        "import sys\n",
        "ipython = get_ipython()\n",
        "def hide_traceback(exc_tuple=None, filename=None, tb_offset=None, exception_only=False, running_compiled_code=False):\n",
        "    etype, value, tb = sys.exc_info()\n",
        "    value.__cause__ = None  # suppress chained exceptions\n",
        "    return ipython._showtraceback(etype, \"❌ \" + f\"\u001b[91m{value}\", ipython.InteractiveTB.get_exception_only(etype, \"❌ \" + f\"\u001b[91m{value}\"))\n",
        "ipython.showtraceback = hide_traceback\n"
      ]
    },
    {
      "cell_type": "markdown",
      "id": "91272de2",
      "metadata": {
        "id": "91272de2"
      },
      "source": [
        "### 1.Given a list named `my_list`, write a program that checks if all the elements in the list are unique.\n",
        "\n",
        "If the elements are unique, print `All elements are unique`. Otherwise, print `There are duplicate elements`.\n",
        "\n",
        "_Hint: Use a set to check if the number of elements in the list is equal to the number of elements in the set._"
      ]
    },
    {
      "cell_type": "code",
      "execution_count": 7,
      "id": "48be7267",
      "metadata": {
        "colab": {
          "base_uri": "https://localhost:8080/"
        },
        "id": "48be7267",
        "outputId": "1089acd6-4f9c-48c2-dde9-a36e468dfd03"
      },
      "outputs": [
        {
          "output_type": "stream",
          "name": "stdout",
          "text": [
            "The given list :  ['Mon', 'Tue', 'Wed', 'Mon']\n",
            "There are duplicate elements.\n"
          ]
        }
      ],
      "source": [
        "# Add your code below this line\n",
        "# TODO - Create a variable called my_list\n",
        "my_list = ['Mon', 'Tue', 'Wed', 'Mon']\n",
        "\n",
        "# TODO - Create the if/else statement to check if all elements in the list are unique\n",
        "print(\"The given list : \",my_list)\n",
        "# Compare length for unique elements\n",
        "if(len(set(my_list)) == len(my_list)):\n",
        "    print(\"All elements are unique. \")\n",
        "else:\n",
        "    print(\"There are duplicate elements.\")\n",
        "\n"
      ]
    },
    {
      "cell_type": "code",
      "execution_count": 8,
      "id": "6d00a7e1",
      "metadata": {
        "colab": {
          "base_uri": "https://localhost:8080/"
        },
        "id": "6d00a7e1",
        "outputId": "caf00a5b-fd07-4c46-f88b-dbf75cb00776"
      },
      "outputs": [
        {
          "output_type": "stream",
          "name": "stdout",
          "text": [
            "\u001b[92m✔ Well done! You successfully checked if the list contains unique elements.\n"
          ]
        }
      ],
      "source": [
        "#@title #### Run this cell to check if your code looks good { display-mode: \"form\"}\n",
        "assert \"# Add your code below this line\" in _ih[-2], \"Before checking your code, make sure the last cell you ran contains your code. If you did, make sure you haven't deleted the comment that says '# Add your code below this line'.\"\n",
        "assert \"#@title\" not in _ih[-2], \"If you want to check your code, rerun the cell that contains your code. If you did, make sure you haven't deleted the comment that says '# Add your code below this line'.\"\n",
        "\n",
        "marking_system.check_step_1(_ih[-2])\n"
      ]
    },
    {
      "cell_type": "code",
      "source": [],
      "metadata": {
        "id": "98IU7EBmKJIk"
      },
      "id": "98IU7EBmKJIk",
      "execution_count": null,
      "outputs": []
    }
  ],
  "metadata": {
    "language_info": {
      "name": "python"
    },
    "colab": {
      "provenance": []
    },
    "kernelspec": {
      "name": "python3",
      "display_name": "Python 3"
    }
  },
  "nbformat": 4,
  "nbformat_minor": 5
}