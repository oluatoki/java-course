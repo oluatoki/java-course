{
  "cells": [
    {
      "cell_type": "markdown",
      "id": "89e2d7a3",
      "metadata": {
        "id": "89e2d7a3"
      },
      "source": [
        "# Car Number Plate Year"
      ]
    },
    {
      "cell_type": "code",
      "execution_count": null,
      "id": "75f2947b",
      "metadata": {
        "id": "75f2947b"
      },
      "outputs": [],
      "source": [
        "#@title ### Run the following cell to download the necessary files for this practical { display-mode: \"form\" } \n",
        "#@markdown Don't worry about what's in this collapsed cell\n",
        "\n",
        "print('Downloading the marking system')\n",
        "!wget https://s3-eu-west-1.amazonaws.com/aicore-portal-public-prod-307050600709/practical_files/2d29d116-7a6e-4acb-bbe2-f44ff09d1103/marking_system.py -q -O marking_system.py\n",
        "import marking_system\n",
        "import importlib\n",
        "importlib.reload(marking_system)\n",
        "import sys\n",
        "ipython = get_ipython()\n",
        "def hide_traceback(exc_tuple=None, filename=None, tb_offset=None, exception_only=False, running_compiled_code=False):\n",
        "    etype, value, tb = sys.exc_info()\n",
        "    value.__cause__ = None  # suppress chained exceptions\n",
        "    return ipython._showtraceback(etype, \"❌ \" + f\"\u001b[91m{value}\", ipython.InteractiveTB.get_exception_only(etype, \"❌ \" + f\"\u001b[91m{value}\"))\n",
        "ipython.showtraceback = hide_traceback\n"
      ]
    },
    {
      "cell_type": "markdown",
      "id": "1e20e5ad",
      "metadata": {
        "id": "1e20e5ad"
      },
      "source": [
        "Given the following list of number plates: "
      ]
    },
    {
      "cell_type": "code",
      "execution_count": 3,
      "id": "c560d645",
      "metadata": {
        "id": "c560d645"
      },
      "outputs": [],
      "source": [
        "plates = [\"G06 WTR\", \"WL11 WFL\", \"QW68 PQR\"]\n"
      ]
    },
    {
      "cell_type": "markdown",
      "id": "94148292",
      "metadata": {
        "id": "94148292"
      },
      "source": [
        "#### 1. Extract the last two characters of the first word, which represent the year of the car\n",
        "\n",
        "For example, the first number plate is from `\"06\"`, the second is from `\"11\"` and the third is from `\"68\"`.\n",
        "\n",
        "Assign each year to a variable called `year_1`, `year_2` and `year_3` respectively.\n",
        "\n",
        "_TIP: You can use the `split()` method to split the string into a list of words._"
      ]
    },
    {
      "cell_type": "code",
      "execution_count": 20,
      "id": "05046123",
      "metadata": {
        "id": "05046123",
        "outputId": "5317972a-5ead-4822-eeee-7ff86d134c91",
        "colab": {
          "base_uri": "https://localhost:8080/"
        }
      },
      "outputs": [
        {
          "output_type": "stream",
          "name": "stdout",
          "text": [
            "['G06', 'WTR']\n",
            "06\n",
            "['WL11', 'WFL']\n",
            "11\n",
            "['QW68', 'PQR']\n",
            "68\n"
          ]
        }
      ],
      "source": [
        "# TODO - Get the first plate, split it into two parts, get the first part, get the last two characters of that part. Assign the result to year_1\n",
        "year_1 = plates[0].split()\n",
        "print(year_1)\n",
        "print(year_1[0][1:])\n",
        "\n",
        "# TODO - Get the second plate, split it into two parts, get the first part, get the last two characters of that part. Assign the result to year_2\n",
        "year_2 = plates[1].split()\n",
        "print(year_2)\n",
        "print(year_2[0][2:])\n",
        "# TODO - Get the third plate, split it into two parts, get the first part, get the last two characters of that part. Assign the result to year_3\n",
        "year_3 = plates[2].split()\n",
        "print(year_3)\n",
        "print(year_3[0][2:])\n"
      ]
    },
    {
      "cell_type": "code",
      "execution_count": null,
      "id": "2f18d6cd",
      "metadata": {
        "id": "2f18d6cd"
      },
      "outputs": [],
      "source": [
        "#@title #### Run this cell to check your answer { display-mode: \"form\", run: \"auto\" }\n",
        "\n",
        "assert \"year_1\" in globals(), \"The variable 'year_1' does not exist. Please, create it and try again.\"\n",
        "assert \"year_2\" in globals(), \"The variable 'year_2' does not exist. Please, create it and try again.\"\n",
        "assert \"year_3\" in globals(), \"The variable 'year_3' does not exist. Please, create it and try again.\"\n",
        "assert \"plates\" in globals(), \"The variable 'plates' does not exist. Please, run the cell at the top of the page to create it and try again.\"\n",
        "marking_system.check_step_1(year_1, year_2, year_3, plates)\n"
      ]
    },
    {
      "cell_type": "markdown",
      "id": "0aeb74e6",
      "metadata": {
        "id": "0aeb74e6"
      },
      "source": [
        "#### 2. Print the type of each of them"
      ]
    },
    {
      "cell_type": "code",
      "execution_count": 23,
      "id": "6c6709d4",
      "metadata": {
        "id": "6c6709d4",
        "outputId": "5c06ec84-301d-42d2-cbed-95bfa8bc68c1",
        "colab": {
          "base_uri": "https://localhost:8080/"
        }
      },
      "outputs": [
        {
          "output_type": "stream",
          "name": "stdout",
          "text": [
            "<class 'str'>\n",
            "<class 'str'>\n",
            "<class 'str'>\n"
          ]
        }
      ],
      "source": [
        "# TODO - Print the type of year_1\n",
        "print(type(year_1[0][1:]))\n",
        "\n",
        "# TODO - Print the type of year_2\n",
        "print(type(year_2[0][1:]))\n",
        "# TODO - Print the type of year_3\n",
        "print(type(year_3[0][2:]))\n",
        "\n"
      ]
    },
    {
      "cell_type": "code",
      "execution_count": null,
      "id": "b5ff1036",
      "metadata": {
        "id": "b5ff1036"
      },
      "outputs": [],
      "source": [
        "#@title #### Enter your solution here { display-mode: \"form\", run: \"auto\" }\n",
        "\n",
        "#@markdown What is the type of year_1, year_2 and year_3?\n",
        "ans = \"\" #@param [\"str\", \"int\", \"float\", \"bool\", \"list\", \"tuple\", \"dict\", \"other\"]\n",
        "\n",
        "marking_system.check_step_2(ans)\n"
      ]
    },
    {
      "cell_type": "markdown",
      "id": "cb0a38c2",
      "metadata": {
        "id": "cb0a38c2"
      },
      "source": [
        "#### 3. Convert each of these years to an integer type\n",
        "\n",
        "Reassign the variables to the new values, i.e. `year_1`, `year_2` and `year_3`."
      ]
    },
    {
      "cell_type": "code",
      "execution_count": 24,
      "id": "96fa5ae4",
      "metadata": {
        "id": "96fa5ae4"
      },
      "outputs": [],
      "source": [
        "# TODO - Convert year_1 to an integer and assign the result to year_1\n",
        "year_1 = int((year_1[0][1:]))\n",
        "# TODO - Convert year_2 to an integer and assign the result to year_2\n",
        "year_2 = int((year_2[0][2:]))\n",
        "# TODO - Convert year_3 to an integer and assign the result to year_3\n",
        "year_3 = int((year_3[0][2:]))\n"
      ]
    },
    {
      "cell_type": "code",
      "execution_count": null,
      "id": "e08e5d9b",
      "metadata": {
        "id": "e08e5d9b"
      },
      "outputs": [],
      "source": [
        "#@title #### Run this cell to check your answer { display-mode: \"form\", run: \"auto\" }\n",
        "\n",
        "assert \"year_1\" in globals(), \"The variable 'year_1' does not exist. Please, create it and try again.\"\n",
        "assert \"year_2\" in globals(), \"The variable 'year_2' does not exist. Please, create it and try again.\"\n",
        "assert \"year_3\" in globals(), \"The variable 'year_3' does not exist. Please, create it and try again.\"\n",
        "assert \"plates\" in globals(), \"The variable 'plates' does not exist. Please, run the cell at the top of the page to create it and try again.\"\n",
        "marking_system.check_step_3(year_1, year_2, year_3, plates)\n"
      ]
    }
  ],
  "metadata": {
    "kernelspec": {
      "display_name": "content-projects_new",
      "language": "python",
      "name": "python3"
    },
    "language_info": {
      "codemirror_mode": {
        "name": "ipython",
        "version": 3
      },
      "file_extension": ".py",
      "mimetype": "text/x-python",
      "name": "python",
      "nbconvert_exporter": "python",
      "pygments_lexer": "ipython3",
      "version": "3.10.8"
    },
    "vscode": {
      "interpreter": {
        "hash": "4b961f8166aad6ccb4cf65d0f9c742ef9c6c23ffe83ad932438cd83ed96aebaf"
      }
    },
    "colab": {
      "provenance": []
    }
  },
  "nbformat": 4,
  "nbformat_minor": 5
}