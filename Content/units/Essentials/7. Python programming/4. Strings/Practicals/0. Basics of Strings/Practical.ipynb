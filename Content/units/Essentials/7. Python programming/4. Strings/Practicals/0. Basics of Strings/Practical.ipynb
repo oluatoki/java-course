{
  "cells": [
    {
      "cell_type": "markdown",
      "id": "d01eaeda",
      "metadata": {
        "id": "d01eaeda"
      },
      "source": [
        "# Basics of Strings\n",
        "\n",
        "In Python, a string variable type is a sequence of characters enclosed within either single or double quotes. It is a fundamental data type used to represent text data."
      ]
    },
    {
      "cell_type": "code",
      "execution_count": null,
      "id": "69e43267",
      "metadata": {
        "id": "69e43267"
      },
      "outputs": [],
      "source": [
        "#@title ### Run the following cell to download the necessary files for this practical { display-mode: \"form\" } \n",
        "#@markdown Don't worry about what's in this collapsed cell\n",
        "\n",
        "print('Downloading the marking system')\n",
        "!wget https://s3-eu-west-1.amazonaws.com/aicore-portal-public-prod-307050600709/practical_files/a6c1a8f2-905c-4e05-99a8-c0ded723ed5e/marking_system.py -q -O marking_system.py\n",
        "import marking_system\n",
        "import importlib\n",
        "importlib.reload(marking_system)\n",
        "import sys\n",
        "ipython = get_ipython()\n",
        "def hide_traceback(exc_tuple=None, filename=None, tb_offset=None, exception_only=False, running_compiled_code=False):\n",
        "    etype, value, tb = sys.exc_info()\n",
        "    value.__cause__ = None  # suppress chained exceptions\n",
        "    return ipython._showtraceback(etype, \"❌ \" + f\"\u001b[91m{value}\", ipython.InteractiveTB.get_exception_only(etype, \"❌ \" + f\"\u001b[91m{value}\"))\n",
        "ipython.showtraceback = hide_traceback\n"
      ]
    },
    {
      "cell_type": "markdown",
      "id": "839c0a7d",
      "metadata": {
        "id": "839c0a7d"
      },
      "source": [
        "### 1. Create a variable called `my_string` and assign it the value `\"Hello World\"`."
      ]
    },
    {
      "cell_type": "code",
      "execution_count": 1,
      "id": "28ff9bb1",
      "metadata": {
        "id": "28ff9bb1"
      },
      "outputs": [],
      "source": [
        "# TODO - Create a variable called `my_string` and assign it the value \"Hello World\"\n",
        "my_string = \"Hello World\"\n"
      ]
    },
    {
      "cell_type": "markdown",
      "id": "b4f7ac5b",
      "metadata": {
        "id": "b4f7ac5b"
      },
      "source": [
        "### 2. Print the value of `my_string`.\n"
      ]
    },
    {
      "cell_type": "code",
      "execution_count": 5,
      "id": "a5671b88",
      "metadata": {
        "colab": {
          "base_uri": "https://localhost:8080/"
        },
        "id": "a5671b88",
        "outputId": "b0772dd8-6091-46a4-de0f-8bd5b8049d67"
      },
      "outputs": [
        {
          "output_type": "stream",
          "name": "stdout",
          "text": [
            "Hello World\n"
          ]
        }
      ],
      "source": [
        "# TODO - Print the value of `my_string`\n",
        "print(my_string)\n"
      ]
    },
    {
      "cell_type": "code",
      "execution_count": 3,
      "id": "000f4399",
      "metadata": {
        "colab": {
          "base_uri": "https://localhost:8080/",
          "height": 200
        },
        "id": "000f4399",
        "outputId": "fcd67bc7-4396-49f6-aa1d-dded92f23880"
      },
      "outputs": [
        {
          "output_type": "error",
          "ename": "NameError",
          "evalue": "ignored",
          "traceback": [
            "\u001b[0;31m---------------------------------------------------------------------------\u001b[0m",
            "\u001b[0;31mNameError\u001b[0m                                 Traceback (most recent call last)",
            "\u001b[0;32m<ipython-input-3-bb7329ba81a8>\u001b[0m in \u001b[0;36m<cell line: 4>\u001b[0;34m()\u001b[0m\n\u001b[1;32m      2\u001b[0m \u001b[0;34m\u001b[0m\u001b[0m\n\u001b[1;32m      3\u001b[0m \u001b[0;32massert\u001b[0m \u001b[0;34m\"my_string\"\u001b[0m \u001b[0;32min\u001b[0m \u001b[0mglobals\u001b[0m\u001b[0;34m(\u001b[0m\u001b[0;34m)\u001b[0m\u001b[0;34m,\u001b[0m \u001b[0;34m\"You haven't defined the variable 'my_string'.\"\u001b[0m\u001b[0;34m\u001b[0m\u001b[0;34m\u001b[0m\u001b[0m\n\u001b[0;32m----> 4\u001b[0;31m \u001b[0mmarking_system\u001b[0m\u001b[0;34m.\u001b[0m\u001b[0mcheck_step_1\u001b[0m\u001b[0;34m(\u001b[0m\u001b[0mmy_string\u001b[0m\u001b[0;34m)\u001b[0m\u001b[0;34m\u001b[0m\u001b[0;34m\u001b[0m\u001b[0m\n\u001b[0m",
            "\u001b[0;31mNameError\u001b[0m: name 'marking_system' is not defined"
          ]
        }
      ],
      "source": [
        "#@title #### Run this cell to check your solution { display-mode: \"form\", run: \"auto\" }\n",
        "\n",
        "assert \"my_string\" in globals(), \"You haven't defined the variable 'my_string'.\"\n",
        "marking_system.check_step_1(my_string)\n"
      ]
    },
    {
      "cell_type": "code",
      "execution_count": 4,
      "id": "e5711a19",
      "metadata": {
        "colab": {
          "base_uri": "https://localhost:8080/",
          "height": 200
        },
        "id": "e5711a19",
        "outputId": "89ba64e8-2c3c-4852-eb93-c8bd15c35730"
      },
      "outputs": [
        {
          "output_type": "error",
          "ename": "NameError",
          "evalue": "ignored",
          "traceback": [
            "\u001b[0;31m---------------------------------------------------------------------------\u001b[0m",
            "\u001b[0;31mNameError\u001b[0m                                 Traceback (most recent call last)",
            "\u001b[0;32m<ipython-input-4-b5313ec0637e>\u001b[0m in \u001b[0;36m<cell line: 4>\u001b[0;34m()\u001b[0m\n\u001b[1;32m      2\u001b[0m \u001b[0;34m\u001b[0m\u001b[0m\n\u001b[1;32m      3\u001b[0m \u001b[0myour_code\u001b[0m \u001b[0;34m=\u001b[0m \u001b[0;34m\"my_string = \\\"Hello World\\\"\"\u001b[0m \u001b[0;31m#@param {type:\"string\"}\u001b[0m\u001b[0;34m\u001b[0m\u001b[0;34m\u001b[0m\u001b[0m\n\u001b[0;32m----> 4\u001b[0;31m \u001b[0mmarking_system\u001b[0m\u001b[0;34m.\u001b[0m\u001b[0mcheck_step_2\u001b[0m\u001b[0;34m(\u001b[0m\u001b[0myour_code\u001b[0m\u001b[0;34m=\u001b[0m\u001b[0myour_code\u001b[0m\u001b[0;34m)\u001b[0m\u001b[0;34m\u001b[0m\u001b[0;34m\u001b[0m\u001b[0m\n\u001b[0m",
            "\u001b[0;31mNameError\u001b[0m: name 'marking_system' is not defined"
          ]
        }
      ],
      "source": [
        "#@title #### Copy and paste your line of code in this form to check your solution { display-mode: \"form\", run: \"auto\" }\n",
        "\n",
        "your_code = \"my_string = \\\"Hello World\\\"\" #@param {type:\"string\"}\n",
        "marking_system.check_step_2(your_code=your_code)\n"
      ]
    },
    {
      "cell_type": "markdown",
      "id": "4ade9d59",
      "metadata": {
        "id": "4ade9d59"
      },
      "source": [
        "### 3. Print the type of `my_string`."
      ]
    },
    {
      "cell_type": "code",
      "execution_count": 6,
      "id": "9f12b65d",
      "metadata": {
        "colab": {
          "base_uri": "https://localhost:8080/"
        },
        "id": "9f12b65d",
        "outputId": "dcf41ceb-5559-44f9-bb25-a29a56c0ca61"
      },
      "outputs": [
        {
          "output_type": "stream",
          "name": "stdout",
          "text": [
            "<class 'str'>\n"
          ]
        }
      ],
      "source": [
        "# TODO - Print the type of `my_string`\n",
        "print(type(my_string))\n"
      ]
    },
    {
      "cell_type": "code",
      "execution_count": null,
      "id": "22d73e4d",
      "metadata": {
        "id": "22d73e4d"
      },
      "outputs": [],
      "source": [
        "#@title #### Copy and paste your line of code in this form to check your solution { display-mode: \"form\", run: \"auto\" }\n",
        "\n",
        "your_code = \"\" #@param {type:\"string\"}\n",
        "marking_system.check_step_3(your_code=your_code)\n"
      ]
    },
    {
      "cell_type": "markdown",
      "id": "ace4d606",
      "metadata": {
        "id": "ace4d606"
      },
      "source": [
        "## Escaped Characters can perform special functions\n",
        "\n",
        "The escape character(`\\`) is a special character used to indicate that the following character should be treated differently. it is followed by a character or a sequence of characters that have a special meaning in the context of the string.\n",
        "\n",
        "There are two main uses of `\\` :\n",
        "- to denote that the next character should have a special meaning, eg. `\\n` to create a newline.\n",
        "- to prevent a character that usually has a special function from having that function, eg. `\\\"`"
      ]
    },
    {
      "cell_type": "markdown",
      "id": "df24e3df",
      "metadata": {
        "id": "df24e3df"
      },
      "source": [
        "#### 1. Create a variable called `my_string` and assign it the value `\"Hello \\nWorld\"`"
      ]
    },
    {
      "cell_type": "code",
      "execution_count": 7,
      "id": "f0b4bf94",
      "metadata": {
        "id": "f0b4bf94"
      },
      "outputs": [],
      "source": [
        "# TODO - Create a variable called `my_string` and assign it the value \"Hello \\nWorld\".\n",
        "my_string = \"Hello \\nWorld\"\n"
      ]
    },
    {
      "cell_type": "code",
      "execution_count": null,
      "id": "5a054c79",
      "metadata": {
        "id": "5a054c79"
      },
      "outputs": [],
      "source": [
        "#@title #### Run this cell to check your solution { display-mode: \"form\", run: \"auto\" }\n",
        "\n",
        "assert \"my_string\" in globals(), \"You haven't defined the variable 'my_string'.\"\n",
        "marking_system.check_step_4(my_string)\n"
      ]
    },
    {
      "cell_type": "markdown",
      "id": "4a22f333",
      "metadata": {
        "id": "4a22f333"
      },
      "source": [
        "#### 2. Print the value of `my_string`\n",
        "\n",
        "The \"\\n\" is a special character that tells Python to start a new line."
      ]
    },
    {
      "cell_type": "code",
      "execution_count": 8,
      "id": "5c2a055e",
      "metadata": {
        "colab": {
          "base_uri": "https://localhost:8080/"
        },
        "id": "5c2a055e",
        "outputId": "d0feecad-9273-42bd-ff64-e8733c819109"
      },
      "outputs": [
        {
          "output_type": "stream",
          "name": "stdout",
          "text": [
            "Hello \n",
            "World\n"
          ]
        }
      ],
      "source": [
        "# TODO - Print the value of my_string.\n",
        "print(my_string)\n"
      ]
    },
    {
      "cell_type": "markdown",
      "id": "066bde31",
      "metadata": {
        "id": "066bde31"
      },
      "source": [
        "#### 3. Create a variable called `my_string` and assign it the value `\"Hello \\tWorld\"`"
      ]
    },
    {
      "cell_type": "code",
      "execution_count": 1,
      "id": "d054e13b",
      "metadata": {
        "id": "d054e13b"
      },
      "outputs": [],
      "source": [
        "# TODO - Create a variable called `my_string` and assign it the value \"Hello \\tWorld\".\n",
        "my_string = \"Hello \\tWorld\"\n"
      ]
    },
    {
      "cell_type": "code",
      "execution_count": null,
      "id": "282bccb4",
      "metadata": {
        "id": "282bccb4"
      },
      "outputs": [],
      "source": [
        "#@title #### Run this cell to check your solution { display-mode: \"form\", run: \"auto\" }\n",
        "\n",
        "assert \"my_string\" in globals(), \"You haven't defined the variable 'my_string'.\"\n",
        "marking_system.check_step_5(my_string)\n"
      ]
    },
    {
      "cell_type": "markdown",
      "id": "5f13eae2",
      "metadata": {
        "id": "5f13eae2"
      },
      "source": [
        "#### 4. Print the value of `my_string`\n",
        "\n",
        "The \"\\t\" is a special character that tells Python to start a new tab."
      ]
    },
    {
      "cell_type": "code",
      "execution_count": 2,
      "id": "cccaaebf",
      "metadata": {
        "colab": {
          "base_uri": "https://localhost:8080/"
        },
        "id": "cccaaebf",
        "outputId": "114527c2-c17d-4371-adcd-c72e1b311434"
      },
      "outputs": [
        {
          "output_type": "stream",
          "name": "stdout",
          "text": [
            "Hello \tWorld\n"
          ]
        }
      ],
      "source": [
        "# TODO - Print the value of my_string.\n",
        "print(my_string)\n"
      ]
    },
    {
      "cell_type": "code",
      "source": [],
      "metadata": {
        "id": "bLrzcDz7UYlG"
      },
      "id": "bLrzcDz7UYlG",
      "execution_count": null,
      "outputs": []
    }
  ],
  "metadata": {
    "kernelspec": {
      "display_name": "content-projects_new",
      "language": "python",
      "name": "python3"
    },
    "language_info": {
      "codemirror_mode": {
        "name": "ipython",
        "version": 3
      },
      "file_extension": ".py",
      "mimetype": "text/x-python",
      "name": "python",
      "nbconvert_exporter": "python",
      "pygments_lexer": "ipython3",
      "version": "3.11.0"
    },
    "vscode": {
      "interpreter": {
        "hash": "4b961f8166aad6ccb4cf65d0f9c742ef9c6c23ffe83ad932438cd83ed96aebaf"
      }
    },
    "colab": {
      "provenance": []
    }
  },
  "nbformat": 4,
  "nbformat_minor": 5
}