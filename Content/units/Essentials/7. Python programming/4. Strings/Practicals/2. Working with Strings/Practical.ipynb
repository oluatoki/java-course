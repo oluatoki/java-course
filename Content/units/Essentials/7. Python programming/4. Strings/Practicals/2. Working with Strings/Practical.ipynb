{
  "cells": [
    {
      "cell_type": "markdown",
      "metadata": {
        "id": "TKkBtI6-s9c8"
      },
      "source": [
        "# Working with Strings"
      ]
    },
    {
      "cell_type": "code",
      "execution_count": null,
      "metadata": {
        "id": "11405756"
      },
      "outputs": [],
      "source": [
        "#@title ### Run the following cell to download the necessary files for this practical { display-mode: \"form\" } \n",
        "#@markdown Don't worry about what's in this collapsed cell\n",
        "\n",
        "print('Downloading the marking system')\n",
        "!wget https://s3-eu-west-1.amazonaws.com/aicore-portal-public-prod-307050600709/practical_files/cd0ca448-662b-4b28-ba5f-57c381565db5/marking_system.py -q -O marking_system.py\n",
        "import marking_system\n",
        "import importlib\n",
        "importlib.reload(marking_system)\n",
        "import sys\n",
        "ipython = get_ipython()\n",
        "def hide_traceback(exc_tuple=None, filename=None, tb_offset=None, exception_only=False, running_compiled_code=False):\n",
        "    etype, value, tb = sys.exc_info()\n",
        "    value.__cause__ = None  # suppress chained exceptions\n",
        "    return ipython._showtraceback(etype, \"❌ \" + f\"\u001b[91m{value}\", ipython.InteractiveTB.get_exception_only(etype, \"❌ \" + f\"\u001b[91m{value}\"))\n",
        "ipython.showtraceback = hide_traceback\n"
      ]
    },
    {
      "cell_type": "markdown",
      "metadata": {
        "id": "dznqqYrEs9dG"
      },
      "source": [
        "## Strings are iterable\n",
        "\n",
        "Strings, like many other `Python` variables, are iterable, which means we can index their individual elements. In the case of strings, the elements are the characters of the string. \n",
        "\n",
        "- In the code block below, create a variable called `test_string` and assign it the value `\"hello\"`.\n",
        "- Now try to select the 2nd character of the string, which should be `e`. Assign the result to a variable called `second_char`.\n"
      ]
    },
    {
      "cell_type": "code",
      "execution_count": 3,
      "metadata": {
        "colab": {
          "base_uri": "https://localhost:8080/"
        },
        "id": "kg9XnRS-s9dI",
        "outputId": "f4ea790f-da7f-4931-bec5-4bbef294d55a"
      },
      "outputs": [
        {
          "output_type": "stream",
          "name": "stdout",
          "text": [
            "e\n"
          ]
        }
      ],
      "source": [
        "# TODO - Create a variable called `test_string` and assign it the value \"hello\".\n",
        "test_string = \"hello\"\n",
        "# TODO - Select the 2nd character of the string. Assign it to a variable called `second_char`.\n",
        "second_char = test_string[1]\n",
        "print(second_char)\n"
      ]
    },
    {
      "cell_type": "code",
      "execution_count": null,
      "metadata": {
        "id": "0VQOi_Ras9dI"
      },
      "outputs": [],
      "source": [
        "#@title #### Run this cell to check your solution { display-mode: \"form\", run: \"auto\" }\n",
        "\n",
        "assert \"test_string\" in globals(), \"You haven't defined the variable 'test_string'.\"\n",
        "assert \"second_char\" in globals(), \"You haven't defined the variable 'second_char'.\"\n",
        "marking_system.check_step_1(test_string, second_char)\n"
      ]
    },
    {
      "cell_type": "markdown",
      "metadata": {
        "id": "1JANX4_Hs9dJ"
      },
      "source": [
        "We can also do this the other way around, using the `.index()` method. The index is the location of an element in a string. As with other variables, the first element has index 0.\n",
        "\n",
        "Find the index of the letter `e` in `test_string`:"
      ]
    },
    {
      "cell_type": "code",
      "execution_count": 4,
      "metadata": {
        "colab": {
          "base_uri": "https://localhost:8080/"
        },
        "id": "0pG2Ihrrs9dJ",
        "outputId": "6f7c7576-2626-4290-edea-421775ee3e5b"
      },
      "outputs": [
        {
          "output_type": "stream",
          "name": "stdout",
          "text": [
            "1\n"
          ]
        }
      ],
      "source": [
        "# TODO - Find the index of the letter `e` in `test_string`\n",
        "print(test_string.index('e'))\n"
      ]
    },
    {
      "cell_type": "code",
      "execution_count": null,
      "metadata": {
        "id": "tV0GVbE2s9dK"
      },
      "outputs": [],
      "source": [
        "#@title #### Enter your solution here { display-mode: \"form\", run: \"auto\" }\n",
        "\n",
        "#@markdown What is the index of the letter `e` in `test_string`?\n",
        "ans = \"1\" #@param [\"0\", \"1\", \"2\", \"3\", \"4\"] {allow-input: true}\n",
        "marking_system.check_step_2(ans)\n"
      ]
    },
    {
      "cell_type": "markdown",
      "metadata": {
        "id": "FMDvGMrFs9dL"
      },
      "source": [
        "## Replacing elements in strings.\n",
        "\n",
        "Strings are immutable, which means we can't just use indexing to replace an element. You might think that the code below would allow us to replace the `e` in \"hello\" with a `*`. Run the code block below to see if it works.\n"
      ]
    },
    {
      "cell_type": "code",
      "execution_count": 5,
      "metadata": {
        "colab": {
          "base_uri": "https://localhost:8080/",
          "height": 183
        },
        "id": "4mLKsCMds9dM",
        "outputId": "ece1d6dd-e40a-495b-c66b-52164e0228e8"
      },
      "outputs": [
        {
          "output_type": "error",
          "ename": "TypeError",
          "evalue": "ignored",
          "traceback": [
            "\u001b[0;31m---------------------------------------------------------------------------\u001b[0m",
            "\u001b[0;31mTypeError\u001b[0m                                 Traceback (most recent call last)",
            "\u001b[0;32m<ipython-input-5-1bd6495210c8>\u001b[0m in \u001b[0;36m<cell line: 2>\u001b[0;34m()\u001b[0m\n\u001b[1;32m      1\u001b[0m \u001b[0ms\u001b[0m \u001b[0;34m=\u001b[0m\u001b[0;34m\"hello\"\u001b[0m\u001b[0;34m\u001b[0m\u001b[0;34m\u001b[0m\u001b[0m\n\u001b[0;32m----> 2\u001b[0;31m \u001b[0ms\u001b[0m\u001b[0;34m[\u001b[0m\u001b[0;36m1\u001b[0m\u001b[0;34m]\u001b[0m\u001b[0;34m=\u001b[0m\u001b[0;34m\"*\"\u001b[0m\u001b[0;34m\u001b[0m\u001b[0;34m\u001b[0m\u001b[0m\n\u001b[0m",
            "\u001b[0;31mTypeError\u001b[0m: 'str' object does not support item assignment"
          ]
        }
      ],
      "source": [
        "s =\"hello\"\n",
        "s[1]=\"*\"\n"
      ]
    },
    {
      "cell_type": "markdown",
      "metadata": {
        "id": "vlKmS1yes9dN"
      },
      "source": [
        "To get around this, we can quickly replace all the elements in a string using the `.replace` method.\n",
        "\n",
        "Replace all the `o` characters with `*` in the following string."
      ]
    },
    {
      "cell_type": "code",
      "execution_count": 6,
      "metadata": {
        "colab": {
          "base_uri": "https://localhost:8080/"
        },
        "id": "hiYBiLXFs9dO",
        "outputId": "ed37fff3-ea68-413b-886f-566b4da36f0c"
      },
      "outputs": [
        {
          "output_type": "stream",
          "name": "stdout",
          "text": [
            "The quick br*wn f*x jumps *ver the lazy d*g\n"
          ]
        }
      ],
      "source": [
        "s = \"The quick brown fox jumps over the lazy dog\" \n",
        "# TODO: Use the appropriate method to replace all occurrences of \"o\" with \"*\"\n",
        "print(s.replace('o','*'))\n"
      ]
    },
    {
      "cell_type": "code",
      "execution_count": null,
      "metadata": {
        "id": "d_H4fvO-s9dP"
      },
      "outputs": [],
      "source": [
        "#@title #### Enter your solution here { display-mode: \"form\", run: \"auto\" }\n",
        "\n",
        "assert \"s\" in globals(), \"You haven't defined the variable 's'. Please, run the cell above.\"\n",
        "marking_system.check_step_3(s)\n"
      ]
    },
    {
      "cell_type": "markdown",
      "metadata": {
        "id": "b2tWR6zPs9dP"
      },
      "source": [
        "## Finding the length of a string\n",
        "\n",
        "We can find the length of a string using it's `len()` function. \n",
        "\n",
        "- Write a sentence and assign it to the variable `my_sentence`.\n",
        "- Find the length of `my_sentence`."
      ]
    },
    {
      "cell_type": "code",
      "execution_count": 7,
      "metadata": {
        "colab": {
          "base_uri": "https://localhost:8080/"
        },
        "id": "Huczuahos9dQ",
        "outputId": "9a2db2ce-3a25-4462-f497-45457f7223a6"
      },
      "outputs": [
        {
          "output_type": "stream",
          "name": "stdout",
          "text": [
            "40\n"
          ]
        }
      ],
      "source": [
        "# TODO: Write a sentence with more than 20 characters and assign it to the variable `my_sentence`.\n",
        "my_sentence = \"Now I am versatile in programming syntax\"\n",
        "# TODO: Find the length of `my_sentence`\n",
        "print(len(my_sentence))\n"
      ]
    },
    {
      "cell_type": "code",
      "execution_count": 8,
      "metadata": {
        "colab": {
          "base_uri": "https://localhost:8080/",
          "height": 200
        },
        "id": "1cOBv6Ezs9dQ",
        "outputId": "68eba1c8-be5a-4b44-a5eb-0b1349e75ea8"
      },
      "outputs": [
        {
          "output_type": "error",
          "ename": "NameError",
          "evalue": "ignored",
          "traceback": [
            "\u001b[0;31m---------------------------------------------------------------------------\u001b[0m",
            "\u001b[0;31mNameError\u001b[0m                                 Traceback (most recent call last)",
            "\u001b[0;32m<ipython-input-8-453f5e9636af>\u001b[0m in \u001b[0;36m<cell line: 6>\u001b[0;34m()\u001b[0m\n\u001b[1;32m      4\u001b[0m \u001b[0;31m#@markdown What is the length of your variable `my_sentence`?\u001b[0m\u001b[0;34m\u001b[0m\u001b[0;34m\u001b[0m\u001b[0m\n\u001b[1;32m      5\u001b[0m \u001b[0msentence_length\u001b[0m \u001b[0;34m=\u001b[0m \u001b[0;36m40\u001b[0m  \u001b[0;31m#@param {type: \"number\"}\u001b[0m\u001b[0;34m\u001b[0m\u001b[0;34m\u001b[0m\u001b[0m\n\u001b[0;32m----> 6\u001b[0;31m \u001b[0mmarking_system\u001b[0m\u001b[0;34m.\u001b[0m\u001b[0mcheck_step_4\u001b[0m\u001b[0;34m(\u001b[0m\u001b[0mmy_sentence\u001b[0m\u001b[0;34m,\u001b[0m \u001b[0msentence_length\u001b[0m\u001b[0;34m)\u001b[0m\u001b[0;34m\u001b[0m\u001b[0;34m\u001b[0m\u001b[0m\n\u001b[0m",
            "\u001b[0;31mNameError\u001b[0m: name 'marking_system' is not defined"
          ]
        }
      ],
      "source": [
        "#@title #### Run this cell to check your solution { display-mode: \"form\", run: \"auto\" }\n",
        "\n",
        "assert \"my_sentence\" in globals(), \"You haven't defined the variable 'my_sentence'.\"\n",
        "#@markdown What is the length of your variable `my_sentence`?\n",
        "sentence_length = 40  #@param {type: \"number\"}\n",
        "marking_system.check_step_4(my_sentence, sentence_length)\n"
      ]
    },
    {
      "cell_type": "code",
      "source": [],
      "metadata": {
        "id": "RR2JEG8w2ou-"
      },
      "execution_count": null,
      "outputs": []
    }
  ],
  "metadata": {
    "kernelspec": {
      "display_name": "content-projects_new",
      "language": "python",
      "name": "python3"
    },
    "language_info": {
      "codemirror_mode": {
        "name": "ipython",
        "version": 3
      },
      "file_extension": ".py",
      "mimetype": "text/x-python",
      "name": "python",
      "nbconvert_exporter": "python",
      "pygments_lexer": "ipython3",
      "version": "3.10.8"
    },
    "vscode": {
      "interpreter": {
        "hash": "4b961f8166aad6ccb4cf65d0f9c742ef9c6c23ffe83ad932438cd83ed96aebaf"
      }
    },
    "colab": {
      "provenance": []
    }
  },
  "nbformat": 4,
  "nbformat_minor": 0
}